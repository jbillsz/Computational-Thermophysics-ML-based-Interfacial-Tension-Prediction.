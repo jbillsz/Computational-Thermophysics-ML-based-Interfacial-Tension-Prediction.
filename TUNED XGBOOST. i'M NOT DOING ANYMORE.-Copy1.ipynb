{
 "cells": [
  {
   "cell_type": "code",
   "execution_count": 1,
   "id": "079a45fb",
   "metadata": {},
   "outputs": [
    {
     "name": "stderr",
     "output_type": "stream",
     "text": [
      "C:\\Users\\Paa Kwasi\\anaconda3\\lib\\site-packages\\xgboost\\compat.py:36: FutureWarning: pandas.Int64Index is deprecated and will be removed from pandas in a future version. Use pandas.Index with the appropriate dtype instead.\n",
      "  from pandas import MultiIndex, Int64Index\n"
     ]
    }
   ],
   "source": [
    "import numpy as np\n",
    "import pandas as pd\n",
    "import matplotlib.pyplot as plt\n",
    "from sklearn.preprocessing import MinMaxScaler\n",
    "from sklearn.model_selection import train_test_split\n",
    "import tensorflow as tf\n",
    "import keras \n",
    "from xgboost import XGBRegressor\n",
    "import os\n",
    "import seaborn as sns"
   ]
  },
  {
   "cell_type": "code",
   "execution_count": 2,
   "id": "fe07e165",
   "metadata": {},
   "outputs": [
    {
     "data": {
      "text/html": [
       "<div>\n",
       "<style scoped>\n",
       "    .dataframe tbody tr th:only-of-type {\n",
       "        vertical-align: middle;\n",
       "    }\n",
       "\n",
       "    .dataframe tbody tr th {\n",
       "        vertical-align: top;\n",
       "    }\n",
       "\n",
       "    .dataframe thead th {\n",
       "        text-align: right;\n",
       "    }\n",
       "</style>\n",
       "<table border=\"1\" class=\"dataframe\">\n",
       "  <thead>\n",
       "    <tr style=\"text-align: right;\">\n",
       "      <th></th>\n",
       "      <th>Temperature</th>\n",
       "      <th>Pressure</th>\n",
       "      <th>Methane</th>\n",
       "      <th>Nitrogen</th>\n",
       "      <th>M1_conc</th>\n",
       "      <th>M2_conc</th>\n",
       "      <th>D_change</th>\n",
       "      <th>IFT</th>\n",
       "    </tr>\n",
       "  </thead>\n",
       "  <tbody>\n",
       "    <tr>\n",
       "      <th>count</th>\n",
       "      <td>1766.000000</td>\n",
       "      <td>1766.000000</td>\n",
       "      <td>1766.000000</td>\n",
       "      <td>1766.000000</td>\n",
       "      <td>1766.000000</td>\n",
       "      <td>1766.000000</td>\n",
       "      <td>1766.000000</td>\n",
       "      <td>1766.000000</td>\n",
       "    </tr>\n",
       "    <tr>\n",
       "      <th>mean</th>\n",
       "      <td>74.128652</td>\n",
       "      <td>15.875853</td>\n",
       "      <td>3.397508</td>\n",
       "      <td>6.131116</td>\n",
       "      <td>0.923757</td>\n",
       "      <td>0.536571</td>\n",
       "      <td>0.658482</td>\n",
       "      <td>40.732027</td>\n",
       "    </tr>\n",
       "    <tr>\n",
       "      <th>std</th>\n",
       "      <td>39.062114</td>\n",
       "      <td>12.648211</td>\n",
       "      <td>13.871424</td>\n",
       "      <td>17.728503</td>\n",
       "      <td>1.406542</td>\n",
       "      <td>1.231026</td>\n",
       "      <td>0.294025</td>\n",
       "      <td>11.658186</td>\n",
       "    </tr>\n",
       "    <tr>\n",
       "      <th>min</th>\n",
       "      <td>5.250000</td>\n",
       "      <td>0.100000</td>\n",
       "      <td>0.000000</td>\n",
       "      <td>0.000000</td>\n",
       "      <td>0.000000</td>\n",
       "      <td>0.000000</td>\n",
       "      <td>0.012192</td>\n",
       "      <td>12.400000</td>\n",
       "    </tr>\n",
       "    <tr>\n",
       "      <th>25%</th>\n",
       "      <td>40.000000</td>\n",
       "      <td>6.312500</td>\n",
       "      <td>0.000000</td>\n",
       "      <td>0.000000</td>\n",
       "      <td>0.000000</td>\n",
       "      <td>0.000000</td>\n",
       "      <td>0.394025</td>\n",
       "      <td>31.605000</td>\n",
       "    </tr>\n",
       "    <tr>\n",
       "      <th>50%</th>\n",
       "      <td>70.000000</td>\n",
       "      <td>12.080000</td>\n",
       "      <td>0.000000</td>\n",
       "      <td>0.000000</td>\n",
       "      <td>0.000000</td>\n",
       "      <td>0.000000</td>\n",
       "      <td>0.741280</td>\n",
       "      <td>38.275000</td>\n",
       "    </tr>\n",
       "    <tr>\n",
       "      <th>75%</th>\n",
       "      <td>100.000000</td>\n",
       "      <td>20.000000</td>\n",
       "      <td>0.000000</td>\n",
       "      <td>0.000000</td>\n",
       "      <td>1.790000</td>\n",
       "      <td>0.000000</td>\n",
       "      <td>0.908175</td>\n",
       "      <td>48.192500</td>\n",
       "    </tr>\n",
       "    <tr>\n",
       "      <th>max</th>\n",
       "      <td>196.250000</td>\n",
       "      <td>69.510000</td>\n",
       "      <td>80.000000</td>\n",
       "      <td>76.360000</td>\n",
       "      <td>4.950000</td>\n",
       "      <td>5.000000</td>\n",
       "      <td>1.273900</td>\n",
       "      <td>76.100000</td>\n",
       "    </tr>\n",
       "  </tbody>\n",
       "</table>\n",
       "</div>"
      ],
      "text/plain": [
       "       Temperature     Pressure      Methane     Nitrogen      M1_conc  \\\n",
       "count  1766.000000  1766.000000  1766.000000  1766.000000  1766.000000   \n",
       "mean     74.128652    15.875853     3.397508     6.131116     0.923757   \n",
       "std      39.062114    12.648211    13.871424    17.728503     1.406542   \n",
       "min       5.250000     0.100000     0.000000     0.000000     0.000000   \n",
       "25%      40.000000     6.312500     0.000000     0.000000     0.000000   \n",
       "50%      70.000000    12.080000     0.000000     0.000000     0.000000   \n",
       "75%     100.000000    20.000000     0.000000     0.000000     1.790000   \n",
       "max     196.250000    69.510000    80.000000    76.360000     4.950000   \n",
       "\n",
       "           M2_conc     D_change          IFT  \n",
       "count  1766.000000  1766.000000  1766.000000  \n",
       "mean      0.536571     0.658482    40.732027  \n",
       "std       1.231026     0.294025    11.658186  \n",
       "min       0.000000     0.012192    12.400000  \n",
       "25%       0.000000     0.394025    31.605000  \n",
       "50%       0.000000     0.741280    38.275000  \n",
       "75%       0.000000     0.908175    48.192500  \n",
       "max       5.000000     1.273900    76.100000  "
      ]
     },
     "execution_count": 2,
     "metadata": {},
     "output_type": "execute_result"
    }
   ],
   "source": [
    "df= pd.read_csv(\"C:/Users/Paa Kwasi/Desktop/Interfacial tension research/ift_expanded.csv\")\n",
    "df.dropna(inplace=True)\n",
    "df.dtypes\n",
    "df.describe()"
   ]
  },
  {
   "cell_type": "code",
   "execution_count": 3,
   "id": "055f9622",
   "metadata": {},
   "outputs": [
    {
     "data": {
      "text/plain": [
       "<AxesSubplot:>"
      ]
     },
     "execution_count": 3,
     "metadata": {},
     "output_type": "execute_result"
    },
    {
     "data": {
      "image/png": "[encoded data removed]",
      "text/plain": [
       "<Figure size 432x288 with 2 Axes>"
      ]
     },
     "metadata": {
      "needs_background": "light"
     },
     "output_type": "display_data"
    }
   ],
   "source": [
    "sns.heatmap(df.corr())"
   ]
  },
  {
   "cell_type": "markdown",
   "id": "bf369326",
   "metadata": {},
   "source": [
    "# Splitting data and working on features\n"
   ]
  },
  {
   "cell_type": "code",
   "execution_count": 4,
   "id": "3f718f84",
   "metadata": {},
   "outputs": [],
   "source": [
    "X= df. drop(['IFT','Phase'],axis=1)"
   ]
  },
  {
   "cell_type": "code",
   "execution_count": 5,
   "id": "85c67e49",
   "metadata": {},
   "outputs": [],
   "source": [
    "y=df.IFT.astype(float)"
   ]
  },
  {
   "cell_type": "code",
   "execution_count": 6,
   "id": "8983b946",
   "metadata": {},
   "outputs": [],
   "source": [
    "from sklearn.preprocessing import OneHotEncoder\n",
    "One_hot=OneHotEncoder()\n",
    "categorical=['Salttype']\n",
    "X_categorical=One_hot.fit_transform(X[categorical])"
   ]
  },
  {
   "cell_type": "code",
   "execution_count": 7,
   "id": "97169e8e",
   "metadata": {},
   "outputs": [
    {
     "name": "stderr",
     "output_type": "stream",
     "text": [
      "C:\\Users\\Paa Kwasi\\anaconda3\\lib\\site-packages\\sklearn\\utils\\deprecation.py:87: FutureWarning: Function get_feature_names is deprecated; get_feature_names is deprecated in 1.0 and will be removed in 1.2. Please use get_feature_names_out instead.\n",
      "  warnings.warn(msg, category=FutureWarning)\n"
     ]
    }
   ],
   "source": [
    "x_cat=pd.DataFrame(X_categorical.toarray(),columns= One_hot.get_feature_names(categorical))"
   ]
  },
  {
   "cell_type": "code",
   "execution_count": 8,
   "id": "00f9d7b5",
   "metadata": {},
   "outputs": [
    {
     "data": {
      "text/html": [
       "<div>\n",
       "<style scoped>\n",
       "    .dataframe tbody tr th:only-of-type {\n",
       "        vertical-align: middle;\n",
       "    }\n",
       "\n",
       "    .dataframe tbody tr th {\n",
       "        vertical-align: top;\n",
       "    }\n",
       "\n",
       "    .dataframe thead th {\n",
       "        text-align: right;\n",
       "    }\n",
       "</style>\n",
       "<table border=\"1\" class=\"dataframe\">\n",
       "  <thead>\n",
       "    <tr style=\"text-align: right;\">\n",
       "      <th></th>\n",
       "      <th>Salttype_CaCl</th>\n",
       "      <th>Salttype_MgCl</th>\n",
       "      <th>Salttype_Na2SO4</th>\n",
       "      <th>Salttype_NaCl</th>\n",
       "      <th>Salttype_NaClCaCl</th>\n",
       "      <th>Salttype_NaClKCl</th>\n",
       "      <th>Salttype_Water</th>\n",
       "    </tr>\n",
       "  </thead>\n",
       "  <tbody>\n",
       "    <tr>\n",
       "      <th>0</th>\n",
       "      <td>1.0</td>\n",
       "      <td>0.0</td>\n",
       "      <td>0.0</td>\n",
       "      <td>0.0</td>\n",
       "      <td>0.0</td>\n",
       "      <td>0.0</td>\n",
       "      <td>0.0</td>\n",
       "    </tr>\n",
       "    <tr>\n",
       "      <th>1</th>\n",
       "      <td>1.0</td>\n",
       "      <td>0.0</td>\n",
       "      <td>0.0</td>\n",
       "      <td>0.0</td>\n",
       "      <td>0.0</td>\n",
       "      <td>0.0</td>\n",
       "      <td>0.0</td>\n",
       "    </tr>\n",
       "    <tr>\n",
       "      <th>2</th>\n",
       "      <td>1.0</td>\n",
       "      <td>0.0</td>\n",
       "      <td>0.0</td>\n",
       "      <td>0.0</td>\n",
       "      <td>0.0</td>\n",
       "      <td>0.0</td>\n",
       "      <td>0.0</td>\n",
       "    </tr>\n",
       "    <tr>\n",
       "      <th>3</th>\n",
       "      <td>1.0</td>\n",
       "      <td>0.0</td>\n",
       "      <td>0.0</td>\n",
       "      <td>0.0</td>\n",
       "      <td>0.0</td>\n",
       "      <td>0.0</td>\n",
       "      <td>0.0</td>\n",
       "    </tr>\n",
       "    <tr>\n",
       "      <th>4</th>\n",
       "      <td>1.0</td>\n",
       "      <td>0.0</td>\n",
       "      <td>0.0</td>\n",
       "      <td>0.0</td>\n",
       "      <td>0.0</td>\n",
       "      <td>0.0</td>\n",
       "      <td>0.0</td>\n",
       "    </tr>\n",
       "    <tr>\n",
       "      <th>...</th>\n",
       "      <td>...</td>\n",
       "      <td>...</td>\n",
       "      <td>...</td>\n",
       "      <td>...</td>\n",
       "      <td>...</td>\n",
       "      <td>...</td>\n",
       "      <td>...</td>\n",
       "    </tr>\n",
       "    <tr>\n",
       "      <th>1761</th>\n",
       "      <td>0.0</td>\n",
       "      <td>0.0</td>\n",
       "      <td>0.0</td>\n",
       "      <td>0.0</td>\n",
       "      <td>0.0</td>\n",
       "      <td>1.0</td>\n",
       "      <td>0.0</td>\n",
       "    </tr>\n",
       "    <tr>\n",
       "      <th>1762</th>\n",
       "      <td>0.0</td>\n",
       "      <td>0.0</td>\n",
       "      <td>0.0</td>\n",
       "      <td>0.0</td>\n",
       "      <td>0.0</td>\n",
       "      <td>1.0</td>\n",
       "      <td>0.0</td>\n",
       "    </tr>\n",
       "    <tr>\n",
       "      <th>1763</th>\n",
       "      <td>0.0</td>\n",
       "      <td>0.0</td>\n",
       "      <td>0.0</td>\n",
       "      <td>0.0</td>\n",
       "      <td>0.0</td>\n",
       "      <td>1.0</td>\n",
       "      <td>0.0</td>\n",
       "    </tr>\n",
       "    <tr>\n",
       "      <th>1764</th>\n",
       "      <td>0.0</td>\n",
       "      <td>0.0</td>\n",
       "      <td>0.0</td>\n",
       "      <td>0.0</td>\n",
       "      <td>0.0</td>\n",
       "      <td>1.0</td>\n",
       "      <td>0.0</td>\n",
       "    </tr>\n",
       "    <tr>\n",
       "      <th>1765</th>\n",
       "      <td>0.0</td>\n",
       "      <td>0.0</td>\n",
       "      <td>0.0</td>\n",
       "      <td>0.0</td>\n",
       "      <td>0.0</td>\n",
       "      <td>1.0</td>\n",
       "      <td>0.0</td>\n",
       "    </tr>\n",
       "  </tbody>\n",
       "</table>\n",
       "<p>1766 rows × 7 columns</p>\n",
       "</div>"
      ],
      "text/plain": [
       "      Salttype_CaCl  Salttype_MgCl  Salttype_Na2SO4  Salttype_NaCl  \\\n",
       "0               1.0            0.0              0.0            0.0   \n",
       "1               1.0            0.0              0.0            0.0   \n",
       "2               1.0            0.0              0.0            0.0   \n",
       "3               1.0            0.0              0.0            0.0   \n",
       "4               1.0            0.0              0.0            0.0   \n",
       "...             ...            ...              ...            ...   \n",
       "1761            0.0            0.0              0.0            0.0   \n",
       "1762            0.0            0.0              0.0            0.0   \n",
       "1763            0.0            0.0              0.0            0.0   \n",
       "1764            0.0            0.0              0.0            0.0   \n",
       "1765            0.0            0.0              0.0            0.0   \n",
       "\n",
       "      Salttype_NaClCaCl  Salttype_NaClKCl  Salttype_Water  \n",
       "0                   0.0               0.0             0.0  \n",
       "1                   0.0               0.0             0.0  \n",
       "2                   0.0               0.0             0.0  \n",
       "3                   0.0               0.0             0.0  \n",
       "4                   0.0               0.0             0.0  \n",
       "...                 ...               ...             ...  \n",
       "1761                0.0               1.0             0.0  \n",
       "1762                0.0               1.0             0.0  \n",
       "1763                0.0               1.0             0.0  \n",
       "1764                0.0               1.0             0.0  \n",
       "1765                0.0               1.0             0.0  \n",
       "\n",
       "[1766 rows x 7 columns]"
      ]
     },
     "execution_count": 8,
     "metadata": {},
     "output_type": "execute_result"
    }
   ],
   "source": [
    "x_cat"
   ]
  },
  {
   "cell_type": "code",
   "execution_count": 9,
   "id": "a751aabe",
   "metadata": {},
   "outputs": [],
   "source": [
    "X.index=x_cat.index"
   ]
  },
  {
   "cell_type": "code",
   "execution_count": 10,
   "id": "2bc90f74",
   "metadata": {},
   "outputs": [],
   "source": [
    "X=pd.concat([X,x_cat],axis=1)"
   ]
  },
  {
   "cell_type": "code",
   "execution_count": 11,
   "id": "70761bca",
   "metadata": {},
   "outputs": [
    {
     "data": {
      "text/html": [
       "<div>\n",
       "<style scoped>\n",
       "    .dataframe tbody tr th:only-of-type {\n",
       "        vertical-align: middle;\n",
       "    }\n",
       "\n",
       "    .dataframe tbody tr th {\n",
       "        vertical-align: top;\n",
       "    }\n",
       "\n",
       "    .dataframe thead th {\n",
       "        text-align: right;\n",
       "    }\n",
       "</style>\n",
       "<table border=\"1\" class=\"dataframe\">\n",
       "  <thead>\n",
       "    <tr style=\"text-align: right;\">\n",
       "      <th></th>\n",
       "      <th>Temperature</th>\n",
       "      <th>Pressure</th>\n",
       "      <th>Methane</th>\n",
       "      <th>Nitrogen</th>\n",
       "      <th>M1_conc</th>\n",
       "      <th>M2_conc</th>\n",
       "      <th>Salttype</th>\n",
       "      <th>D_change</th>\n",
       "      <th>Salttype_CaCl</th>\n",
       "      <th>Salttype_MgCl</th>\n",
       "      <th>Salttype_Na2SO4</th>\n",
       "      <th>Salttype_NaCl</th>\n",
       "      <th>Salttype_NaClCaCl</th>\n",
       "      <th>Salttype_NaClKCl</th>\n",
       "      <th>Salttype_Water</th>\n",
       "    </tr>\n",
       "  </thead>\n",
       "  <tbody>\n",
       "    <tr>\n",
       "      <th>0</th>\n",
       "      <td>27.00</td>\n",
       "      <td>5.070</td>\n",
       "      <td>0.0</td>\n",
       "      <td>0.0</td>\n",
       "      <td>0.0</td>\n",
       "      <td>0.045</td>\n",
       "      <td>CaCl</td>\n",
       "      <td>0.88170</td>\n",
       "      <td>1.0</td>\n",
       "      <td>0.0</td>\n",
       "      <td>0.0</td>\n",
       "      <td>0.0</td>\n",
       "      <td>0.0</td>\n",
       "      <td>0.0</td>\n",
       "      <td>0.0</td>\n",
       "    </tr>\n",
       "    <tr>\n",
       "      <th>1</th>\n",
       "      <td>27.00</td>\n",
       "      <td>6.030</td>\n",
       "      <td>0.0</td>\n",
       "      <td>0.0</td>\n",
       "      <td>0.0</td>\n",
       "      <td>0.045</td>\n",
       "      <td>CaCl</td>\n",
       "      <td>0.82990</td>\n",
       "      <td>1.0</td>\n",
       "      <td>0.0</td>\n",
       "      <td>0.0</td>\n",
       "      <td>0.0</td>\n",
       "      <td>0.0</td>\n",
       "      <td>0.0</td>\n",
       "      <td>0.0</td>\n",
       "    </tr>\n",
       "    <tr>\n",
       "      <th>2</th>\n",
       "      <td>27.00</td>\n",
       "      <td>7.020</td>\n",
       "      <td>0.0</td>\n",
       "      <td>0.0</td>\n",
       "      <td>0.0</td>\n",
       "      <td>0.045</td>\n",
       "      <td>CaCl</td>\n",
       "      <td>0.30280</td>\n",
       "      <td>1.0</td>\n",
       "      <td>0.0</td>\n",
       "      <td>0.0</td>\n",
       "      <td>0.0</td>\n",
       "      <td>0.0</td>\n",
       "      <td>0.0</td>\n",
       "      <td>0.0</td>\n",
       "    </tr>\n",
       "    <tr>\n",
       "      <th>3</th>\n",
       "      <td>27.00</td>\n",
       "      <td>8.270</td>\n",
       "      <td>0.0</td>\n",
       "      <td>0.0</td>\n",
       "      <td>0.0</td>\n",
       "      <td>0.045</td>\n",
       "      <td>CaCl</td>\n",
       "      <td>0.25460</td>\n",
       "      <td>1.0</td>\n",
       "      <td>0.0</td>\n",
       "      <td>0.0</td>\n",
       "      <td>0.0</td>\n",
       "      <td>0.0</td>\n",
       "      <td>0.0</td>\n",
       "      <td>0.0</td>\n",
       "    </tr>\n",
       "    <tr>\n",
       "      <th>4</th>\n",
       "      <td>27.00</td>\n",
       "      <td>11.050</td>\n",
       "      <td>0.0</td>\n",
       "      <td>0.0</td>\n",
       "      <td>0.0</td>\n",
       "      <td>0.045</td>\n",
       "      <td>CaCl</td>\n",
       "      <td>0.19770</td>\n",
       "      <td>1.0</td>\n",
       "      <td>0.0</td>\n",
       "      <td>0.0</td>\n",
       "      <td>0.0</td>\n",
       "      <td>0.0</td>\n",
       "      <td>0.0</td>\n",
       "      <td>0.0</td>\n",
       "    </tr>\n",
       "    <tr>\n",
       "      <th>...</th>\n",
       "      <td>...</td>\n",
       "      <td>...</td>\n",
       "      <td>...</td>\n",
       "      <td>...</td>\n",
       "      <td>...</td>\n",
       "      <td>...</td>\n",
       "      <td>...</td>\n",
       "      <td>...</td>\n",
       "      <td>...</td>\n",
       "      <td>...</td>\n",
       "      <td>...</td>\n",
       "      <td>...</td>\n",
       "      <td>...</td>\n",
       "      <td>...</td>\n",
       "      <td>...</td>\n",
       "    </tr>\n",
       "    <tr>\n",
       "      <th>1761</th>\n",
       "      <td>99.95</td>\n",
       "      <td>10.978</td>\n",
       "      <td>0.0</td>\n",
       "      <td>0.0</td>\n",
       "      <td>4.9</td>\n",
       "      <td>0.000</td>\n",
       "      <td>NaClKCl</td>\n",
       "      <td>0.91568</td>\n",
       "      <td>0.0</td>\n",
       "      <td>0.0</td>\n",
       "      <td>0.0</td>\n",
       "      <td>0.0</td>\n",
       "      <td>0.0</td>\n",
       "      <td>1.0</td>\n",
       "      <td>0.0</td>\n",
       "    </tr>\n",
       "    <tr>\n",
       "      <th>1762</th>\n",
       "      <td>99.95</td>\n",
       "      <td>11.962</td>\n",
       "      <td>0.0</td>\n",
       "      <td>0.0</td>\n",
       "      <td>4.9</td>\n",
       "      <td>0.000</td>\n",
       "      <td>NaClKCl</td>\n",
       "      <td>0.88873</td>\n",
       "      <td>0.0</td>\n",
       "      <td>0.0</td>\n",
       "      <td>0.0</td>\n",
       "      <td>0.0</td>\n",
       "      <td>0.0</td>\n",
       "      <td>1.0</td>\n",
       "      <td>0.0</td>\n",
       "    </tr>\n",
       "    <tr>\n",
       "      <th>1763</th>\n",
       "      <td>99.95</td>\n",
       "      <td>12.974</td>\n",
       "      <td>0.0</td>\n",
       "      <td>0.0</td>\n",
       "      <td>4.9</td>\n",
       "      <td>0.000</td>\n",
       "      <td>NaClKCl</td>\n",
       "      <td>0.85951</td>\n",
       "      <td>0.0</td>\n",
       "      <td>0.0</td>\n",
       "      <td>0.0</td>\n",
       "      <td>0.0</td>\n",
       "      <td>0.0</td>\n",
       "      <td>1.0</td>\n",
       "      <td>0.0</td>\n",
       "    </tr>\n",
       "    <tr>\n",
       "      <th>1764</th>\n",
       "      <td>99.95</td>\n",
       "      <td>13.964</td>\n",
       "      <td>0.0</td>\n",
       "      <td>0.0</td>\n",
       "      <td>4.9</td>\n",
       "      <td>0.000</td>\n",
       "      <td>NaClKCl</td>\n",
       "      <td>0.83316</td>\n",
       "      <td>0.0</td>\n",
       "      <td>0.0</td>\n",
       "      <td>0.0</td>\n",
       "      <td>0.0</td>\n",
       "      <td>0.0</td>\n",
       "      <td>1.0</td>\n",
       "      <td>0.0</td>\n",
       "    </tr>\n",
       "    <tr>\n",
       "      <th>1765</th>\n",
       "      <td>99.95</td>\n",
       "      <td>14.989</td>\n",
       "      <td>0.0</td>\n",
       "      <td>0.0</td>\n",
       "      <td>4.9</td>\n",
       "      <td>0.000</td>\n",
       "      <td>NaClKCl</td>\n",
       "      <td>0.80142</td>\n",
       "      <td>0.0</td>\n",
       "      <td>0.0</td>\n",
       "      <td>0.0</td>\n",
       "      <td>0.0</td>\n",
       "      <td>0.0</td>\n",
       "      <td>1.0</td>\n",
       "      <td>0.0</td>\n",
       "    </tr>\n",
       "  </tbody>\n",
       "</table>\n",
       "<p>1766 rows × 15 columns</p>\n",
       "</div>"
      ],
      "text/plain": [
       "      Temperature  Pressure  Methane  Nitrogen  M1_conc  M2_conc Salttype  \\\n",
       "0           27.00     5.070      0.0       0.0      0.0    0.045     CaCl   \n",
       "1           27.00     6.030      0.0       0.0      0.0    0.045     CaCl   \n",
       "2           27.00     7.020      0.0       0.0      0.0    0.045     CaCl   \n",
       "3           27.00     8.270      0.0       0.0      0.0    0.045     CaCl   \n",
       "4           27.00    11.050      0.0       0.0      0.0    0.045     CaCl   \n",
       "...           ...       ...      ...       ...      ...      ...      ...   \n",
       "1761        99.95    10.978      0.0       0.0      4.9    0.000  NaClKCl   \n",
       "1762        99.95    11.962      0.0       0.0      4.9    0.000  NaClKCl   \n",
       "1763        99.95    12.974      0.0       0.0      4.9    0.000  NaClKCl   \n",
       "1764        99.95    13.964      0.0       0.0      4.9    0.000  NaClKCl   \n",
       "1765        99.95    14.989      0.0       0.0      4.9    0.000  NaClKCl   \n",
       "\n",
       "      D_change  Salttype_CaCl  Salttype_MgCl  Salttype_Na2SO4  Salttype_NaCl  \\\n",
       "0      0.88170            1.0            0.0              0.0            0.0   \n",
       "1      0.82990            1.0            0.0              0.0            0.0   \n",
       "2      0.30280            1.0            0.0              0.0            0.0   \n",
       "3      0.25460            1.0            0.0              0.0            0.0   \n",
       "4      0.19770            1.0            0.0              0.0            0.0   \n",
       "...        ...            ...            ...              ...            ...   \n",
       "1761   0.91568            0.0            0.0              0.0            0.0   \n",
       "1762   0.88873            0.0            0.0              0.0            0.0   \n",
       "1763   0.85951            0.0            0.0              0.0            0.0   \n",
       "1764   0.83316            0.0            0.0              0.0            0.0   \n",
       "1765   0.80142            0.0            0.0              0.0            0.0   \n",
       "\n",
       "      Salttype_NaClCaCl  Salttype_NaClKCl  Salttype_Water  \n",
       "0                   0.0               0.0             0.0  \n",
       "1                   0.0               0.0             0.0  \n",
       "2                   0.0               0.0             0.0  \n",
       "3                   0.0               0.0             0.0  \n",
       "4                   0.0               0.0             0.0  \n",
       "...                 ...               ...             ...  \n",
       "1761                0.0               1.0             0.0  \n",
       "1762                0.0               1.0             0.0  \n",
       "1763                0.0               1.0             0.0  \n",
       "1764                0.0               1.0             0.0  \n",
       "1765                0.0               1.0             0.0  \n",
       "\n",
       "[1766 rows x 15 columns]"
      ]
     },
     "execution_count": 11,
     "metadata": {},
     "output_type": "execute_result"
    }
   ],
   "source": [
    "X"
   ]
  },
  {
   "cell_type": "code",
   "execution_count": 12,
   "id": "400b4913",
   "metadata": {},
   "outputs": [],
   "source": [
    "X=X.drop([\"Salttype\"],axis=1)"
   ]
  },
  {
   "cell_type": "code",
   "execution_count": 13,
   "id": "b0934b04",
   "metadata": {},
   "outputs": [],
   "source": [
    "y.index=X.index"
   ]
  },
  {
   "cell_type": "code",
   "execution_count": 14,
   "id": "14fcc256",
   "metadata": {},
   "outputs": [],
   "source": [
    "from sklearn.model_selection import train_test_split\n",
    "X_train,X_test,y_train,y_test=train_test_split(X,y, random_state=5,train_size=1)"
   ]
  },
  {
   "cell_type": "code",
   "execution_count": 15,
   "id": "f0fd74cb",
   "metadata": {},
   "outputs": [],
   "source": [
    "from sklearn.preprocessing import MinMaxScaler\n",
    "scaler=MinMaxScaler()\n",
    "X_train=scaler.fit_transform(X_train)\n",
    "X_test=scaler.transform(X_test)"
   ]
  },
  {
   "cell_type": "code",
   "execution_count": 16,
   "id": "2606264d",
   "metadata": {},
   "outputs": [],
   "source": [
    "xgbr = XGBRegressor(\n",
    "    reg_lambda=1,\n",
    "    colsample_bytree=0.7268617365720165,\n",
    "    learning_rate=0.07073171568818319,\n",
    "    max_depth=7,\n",
    "    min_child_weight=4,\n",
    "    n_estimators=565,\n",
    "    n_jobs=-1,\n",
    "    subsample= 0.6285676779596696\n",
    ")"
   ]
  },
  {
   "cell_type": "code",
   "execution_count": 17,
   "id": "6c1741f6",
   "metadata": {},
   "outputs": [
    {
     "data": {
      "text/plain": [
       "XGBRegressor(base_score=0.5, booster='gbtree', colsample_bylevel=1,\n",
       "             colsample_bynode=1, colsample_bytree=0.7268617365720165,\n",
       "             enable_categorical=False, gamma=0, gpu_id=-1, importance_type=None,\n",
       "             interaction_constraints='', learning_rate=0.07073171568818319,\n",
       "             max_delta_step=0, max_depth=7, min_child_weight=4, missing=nan,\n",
       "             monotone_constraints='()', n_estimators=565, n_jobs=-1,\n",
       "             num_parallel_tree=1, predictor='auto', random_state=0, reg_alpha=0,\n",
       "             reg_lambda=1, scale_pos_weight=1, subsample=0.6285676779596696,\n",
       "             tree_method='exact', validate_parameters=1, verbosity=None)"
      ]
     },
     "execution_count": 17,
     "metadata": {},
     "output_type": "execute_result"
    }
   ],
   "source": [
    "xgbr.fit(X_train,y_train)"
   ]
  },
  {
   "cell_type": "code",
   "execution_count": 18,
   "id": "1ff05d32",
   "metadata": {},
   "outputs": [
    {
     "name": "stderr",
     "output_type": "stream",
     "text": [
      "C:\\Users\\Paa Kwasi\\anaconda3\\lib\\site-packages\\sklearn\\metrics\\_regression.py:796: UndefinedMetricWarning: R^2 score is not well-defined with less than two samples.\n",
      "  warnings.warn(msg, UndefinedMetricWarning)\n"
     ]
    },
    {
     "data": {
      "text/plain": [
       "nan"
      ]
     },
     "execution_count": 18,
     "metadata": {},
     "output_type": "execute_result"
    }
   ],
   "source": [
    "xgbr.score(X_train,y_train)"
   ]
  },
  {
   "cell_type": "code",
   "execution_count": 19,
   "id": "72602548",
   "metadata": {},
   "outputs": [
    {
     "data": {
      "text/plain": [
       "-11.910223056310254"
      ]
     },
     "execution_count": 19,
     "metadata": {},
     "output_type": "execute_result"
    }
   ],
   "source": [
    "xgbr.score(X_test,y_test)"
   ]
  },
  {
   "cell_type": "code",
   "execution_count": 41,
   "id": "22fe7de5",
   "metadata": {},
   "outputs": [
    {
     "data": {
      "image/png": "[encoded data removed]",
      "text/plain": [
       "<Figure size 432x288 with 1 Axes>"
      ]
     },
     "metadata": {
      "needs_background": "light"
     },
     "output_type": "display_data"
    }
   ],
   "source": [
    "import xgboost as xgb\n",
    "xgb.plot_importance(xgbr)\n",
    "plt.show()"
   ]
  },
  {
   "cell_type": "code",
   "execution_count": 42,
   "id": "7d60d0b5",
   "metadata": {},
   "outputs": [],
   "source": [
    "importances = xgbr.get_booster().get_score(importance_type='weight')"
   ]
  },
  {
   "cell_type": "code",
   "execution_count": 43,
   "id": "b25f5b1b",
   "metadata": {},
   "outputs": [
    {
     "data": {
      "text/plain": [
       "{'f0': 3263.0,\n",
       " 'f1': 3495.0,\n",
       " 'f2': 532.0,\n",
       " 'f3': 892.0,\n",
       " 'f4': 1155.0,\n",
       " 'f5': 593.0,\n",
       " 'f6': 5181.0,\n",
       " 'f7': 143.0,\n",
       " 'f8': 62.0,\n",
       " 'f9': 48.0,\n",
       " 'f10': 150.0,\n",
       " 'f11': 33.0,\n",
       " 'f12': 178.0,\n",
       " 'f13': 223.0}"
      ]
     },
     "execution_count": 43,
     "metadata": {},
     "output_type": "execute_result"
    }
   ],
   "source": [
    "importances"
   ]
  },
  {
   "cell_type": "code",
   "execution_count": 36,
   "id": "17de1f54",
   "metadata": {},
   "outputs": [
    {
     "name": "stdout",
     "output_type": "stream",
     "text": [
      "Fitting 5 folds for each of 50 candidates, totalling 250 fits\n",
      "Best Parameters:  {'subsample': 0.8, 'reg_lambda': 1.0, 'n_estimators': 500, 'min_child_weight': 5, 'max_depth': 8, 'learning_rate': 0.1, 'colsample_bytree': 0.7}\n",
      "Best Score:  0.9848076351254923\n"
     ]
    }
   ],
   "source": [
    "from sklearn.model_selection import RandomizedSearchCV\n",
    "from scipy.stats import uniform, randint\n",
    "\n",
    "# Define the parameter grid for RandomizedSearchCV\n",
    "param_grid = {\n",
    "    'reg_lambda': [0.001, 0.01, 0.1, 1.0, 10.0],\n",
    "    'colsample_bytree': [0.7, 0.8, 0.9, 1.0],\n",
    "    'learning_rate': [0.01, 0.05, 0.1, 0.2, 0.3],\n",
    "    'max_depth': [3, 4, 5, 6, 7, 8, 9],\n",
    "    'min_child_weight': [1, 2, 3, 4, 5],\n",
    "    'n_estimators': [100, 200, 300, 400, 500],\n",
    "    'subsample': [0.7, 0.8, 0.9, 1.0]\n",
    "}\n",
    "xgb_model = XGBRegressor()\n",
    "\n",
    "# Create a RandomizedSearchCV object\n",
    "random_search = RandomizedSearchCV(\n",
    "    xgb_model, param_distributions=param_grid, n_iter=50, cv=5, verbose=1, n_jobs=-1\n",
    ")\n",
    "\n",
    "# Fit the RandomizedSearchCV to your data\n",
    "random_search.fit(X_train, y_train)\n",
    "\n",
    "# Print the best parameters and their corresponding score\n",
    "print(\"Best Parameters: \", random_search.best_params_)\n",
    "print(\"Best Score: \", random_search.best_score_)"
   ]
  },
  {
   "cell_type": "markdown",
   "id": "21b6c548",
   "metadata": {},
   "source": [
    "# Checking the Mean squared and absolute errors of the XGBR "
   ]
  },
  {
   "cell_type": "code",
   "execution_count": 44,
   "id": "ba7fb7f9",
   "metadata": {},
   "outputs": [],
   "source": [
    "from sklearn.metrics import mean_absolute_error, mean_squared_error\n",
    "mean_abs=mean_absolute_error(y_test,xgbr.predict(X_test))\n",
    "mean_squared=mean_squared_error(y_test,xgbr.predict(X_test))\n",
    "\n",
    "mean_abs_t=mean_absolute_error(y_train,xgbr.predict(X_train))\n",
    "mean_squared_t=mean_squared_error(y_train,xgbr.predict(X_train))"
   ]
  },
  {
   "cell_type": "code",
   "execution_count": 45,
   "id": "b4a22c6f",
   "metadata": {},
   "outputs": [
    {
     "data": {
      "text/plain": [
       "(0.8330184742189805,\n",
       " 1.4475096771968017,\n",
       " 0.21819264621796336,\n",
       " 0.0867738519123049)"
      ]
     },
     "execution_count": 45,
     "metadata": {},
     "output_type": "execute_result"
    }
   ],
   "source": [
    "mean_abs, mean_squared, mean_abs_t, mean_squared_t"
   ]
  },
  {
   "cell_type": "code",
   "execution_count": 46,
   "id": "629235da",
   "metadata": {},
   "outputs": [
    {
     "data": {
      "text/html": [
       "<div>\n",
       "<style scoped>\n",
       "    .dataframe tbody tr th:only-of-type {\n",
       "        vertical-align: middle;\n",
       "    }\n",
       "\n",
       "    .dataframe tbody tr th {\n",
       "        vertical-align: top;\n",
       "    }\n",
       "\n",
       "    .dataframe thead th {\n",
       "        text-align: right;\n",
       "    }\n",
       "</style>\n",
       "<table border=\"1\" class=\"dataframe\">\n",
       "  <thead>\n",
       "    <tr style=\"text-align: right;\">\n",
       "      <th></th>\n",
       "      <th>IFT</th>\n",
       "    </tr>\n",
       "  </thead>\n",
       "  <tbody>\n",
       "    <tr>\n",
       "      <th>1611</th>\n",
       "      <td>29.52</td>\n",
       "    </tr>\n",
       "    <tr>\n",
       "      <th>949</th>\n",
       "      <td>33.50</td>\n",
       "    </tr>\n",
       "    <tr>\n",
       "      <th>680</th>\n",
       "      <td>30.50</td>\n",
       "    </tr>\n",
       "    <tr>\n",
       "      <th>141</th>\n",
       "      <td>25.00</td>\n",
       "    </tr>\n",
       "    <tr>\n",
       "      <th>1620</th>\n",
       "      <td>34.50</td>\n",
       "    </tr>\n",
       "    <tr>\n",
       "      <th>...</th>\n",
       "      <td>...</td>\n",
       "    </tr>\n",
       "    <tr>\n",
       "      <th>8</th>\n",
       "      <td>27.86</td>\n",
       "    </tr>\n",
       "    <tr>\n",
       "      <th>218</th>\n",
       "      <td>56.70</td>\n",
       "    </tr>\n",
       "    <tr>\n",
       "      <th>366</th>\n",
       "      <td>43.02</td>\n",
       "    </tr>\n",
       "    <tr>\n",
       "      <th>963</th>\n",
       "      <td>62.10</td>\n",
       "    </tr>\n",
       "    <tr>\n",
       "      <th>1506</th>\n",
       "      <td>68.78</td>\n",
       "    </tr>\n",
       "  </tbody>\n",
       "</table>\n",
       "<p>530 rows × 1 columns</p>\n",
       "</div>"
      ],
      "text/plain": [
       "        IFT\n",
       "1611  29.52\n",
       "949   33.50\n",
       "680   30.50\n",
       "141   25.00\n",
       "1620  34.50\n",
       "...     ...\n",
       "8     27.86\n",
       "218   56.70\n",
       "366   43.02\n",
       "963   62.10\n",
       "1506  68.78\n",
       "\n",
       "[530 rows x 1 columns]"
      ]
     },
     "execution_count": 46,
     "metadata": {},
     "output_type": "execute_result"
    }
   ],
   "source": [
    "df=pd.DataFrame(y_test) \n",
    "df"
   ]
  },
  {
   "cell_type": "code",
   "execution_count": 47,
   "id": "984a1271",
   "metadata": {},
   "outputs": [],
   "source": [
    "d2=pd.DataFrame(xgbr.predict(X_test), columns=['IFT_pred'])\n",
    "d2.index=df.index"
   ]
  },
  {
   "cell_type": "code",
   "execution_count": 48,
   "id": "8a0c0499",
   "metadata": {},
   "outputs": [],
   "source": [
    "df=pd.concat([df,d2],axis=1)"
   ]
  },
  {
   "cell_type": "code",
   "execution_count": 49,
   "id": "0a6f17cb",
   "metadata": {},
   "outputs": [],
   "source": [
    "df.to_csv(\"XGBRegressor actual values vs Predicted values without Phase_tuned2!.csv\")"
   ]
  },
  {
   "cell_type": "code",
   "execution_count": 50,
   "id": "7d782c7a",
   "metadata": {},
   "outputs": [
    {
     "data": {
      "text/html": [
       "<div>\n",
       "<style scoped>\n",
       "    .dataframe tbody tr th:only-of-type {\n",
       "        vertical-align: middle;\n",
       "    }\n",
       "\n",
       "    .dataframe tbody tr th {\n",
       "        vertical-align: top;\n",
       "    }\n",
       "\n",
       "    .dataframe thead th {\n",
       "        text-align: right;\n",
       "    }\n",
       "</style>\n",
       "<table border=\"1\" class=\"dataframe\">\n",
       "  <thead>\n",
       "    <tr style=\"text-align: right;\">\n",
       "      <th></th>\n",
       "      <th>IFT</th>\n",
       "    </tr>\n",
       "  </thead>\n",
       "  <tbody>\n",
       "    <tr>\n",
       "      <th>1460</th>\n",
       "      <td>58.97</td>\n",
       "    </tr>\n",
       "    <tr>\n",
       "      <th>1304</th>\n",
       "      <td>35.89</td>\n",
       "    </tr>\n",
       "    <tr>\n",
       "      <th>687</th>\n",
       "      <td>33.80</td>\n",
       "    </tr>\n",
       "    <tr>\n",
       "      <th>1540</th>\n",
       "      <td>64.00</td>\n",
       "    </tr>\n",
       "    <tr>\n",
       "      <th>447</th>\n",
       "      <td>47.87</td>\n",
       "    </tr>\n",
       "    <tr>\n",
       "      <th>...</th>\n",
       "      <td>...</td>\n",
       "    </tr>\n",
       "    <tr>\n",
       "      <th>1142</th>\n",
       "      <td>68.52</td>\n",
       "    </tr>\n",
       "    <tr>\n",
       "      <th>998</th>\n",
       "      <td>55.10</td>\n",
       "    </tr>\n",
       "    <tr>\n",
       "      <th>1725</th>\n",
       "      <td>36.78</td>\n",
       "    </tr>\n",
       "    <tr>\n",
       "      <th>206</th>\n",
       "      <td>31.30</td>\n",
       "    </tr>\n",
       "    <tr>\n",
       "      <th>867</th>\n",
       "      <td>49.80</td>\n",
       "    </tr>\n",
       "  </tbody>\n",
       "</table>\n",
       "<p>1236 rows × 1 columns</p>\n",
       "</div>"
      ],
      "text/plain": [
       "        IFT\n",
       "1460  58.97\n",
       "1304  35.89\n",
       "687   33.80\n",
       "1540  64.00\n",
       "447   47.87\n",
       "...     ...\n",
       "1142  68.52\n",
       "998   55.10\n",
       "1725  36.78\n",
       "206   31.30\n",
       "867   49.80\n",
       "\n",
       "[1236 rows x 1 columns]"
      ]
     },
     "execution_count": 50,
     "metadata": {},
     "output_type": "execute_result"
    }
   ],
   "source": [
    "df=pd.DataFrame(y_train) \n",
    "df"
   ]
  },
  {
   "cell_type": "code",
   "execution_count": 51,
   "id": "7511ce60",
   "metadata": {},
   "outputs": [],
   "source": [
    "d2=pd.DataFrame(xgbr.predict(X_train), columns=['IFT_pred'])\n",
    "d2.index=df.index"
   ]
  },
  {
   "cell_type": "code",
   "execution_count": 52,
   "id": "8ed153b2",
   "metadata": {},
   "outputs": [],
   "source": [
    "df=pd.concat([df,d2],axis=1)"
   ]
  },
  {
   "cell_type": "code",
   "execution_count": 53,
   "id": "ded7b7bc",
   "metadata": {},
   "outputs": [],
   "source": [
    "df.to_csv(\"XGBRegressor actual values vs Predicted values without Phase_tuned_train2!.csv\")"
   ]
  },
  {
   "cell_type": "code",
   "execution_count": 54,
   "id": "ba31e1a0",
   "metadata": {},
   "outputs": [],
   "source": [
    "xgbr.save_model(\"Final_XGB_tuning_2.json\")"
   ]
  },
  {
   "cell_type": "code",
   "execution_count": null,
   "id": "f7c54737",
   "metadata": {},
   "outputs": [],
   "source": []
  }
 ],
 "metadata": {
  "kernelspec": {
   "display_name": "Python 3 (ipykernel)",
   "language": "python",
   "name": "python3"
  },
  "language_info": {
   "codemirror_mode": {
    "name": "ipython",
    "version": 3
   },
   "file_extension": ".py",
   "mimetype": "text/x-python",
   "name": "python",
   "nbconvert_exporter": "python",
   "pygments_lexer": "ipython3",
   "version": "3.9.12"
  }
 },
 "nbformat": 4,
 "nbformat_minor": 5
}
